{
 "cells": [
  {
   "cell_type": "code",
   "metadata": {
    "collapsed": true,
    "pycharm": {
     "name": "#%%\n"
    }
   },
   "source": [
    "import pandas as pd"
   ],
   "execution_count": 1,
   "outputs": []
  },
  {
   "cell_type": "code",
   "execution_count": 18,
   "metadata": {
    "pycharm": {
     "name": "#%%\n"
    }
   },
   "outputs": [],
   "source": [
    "candidateDf = pd.read_excel(\"data/CandidateInformation.xlsx\")\n",
    "companyDf = pd.read_excel(\"data/CompanyInformation.xlsx\")"
   ]
  },
  {
   "cell_type": "code",
   "execution_count": 19,
   "outputs": [
    {
     "data": {
      "text/plain": "        candidateName       candidateSignature  candidateAddress location  \\\n0  Subhankar Karmakar  candidateSignature2.png               NaN   Jaipur   \n1          Ayush Garg  candidateSignature2.png               NaN   Jaipur   \n\n  designation    basic    bonus      hra  medicalAllowance  \\\n0   Associate   800000   800000        0            800000   \n1  Consultant  1600000  1600000  1600000           1600000   \n\n   otherFixedAllowance  pfEmployee  pfEmployer  totalFixedCash  \\\n0               800000      800000      800000          800000   \n1              1600000     1600000     1600000         1600000   \n\n   totalCtcPerMonth  totalCtcPerYear  totalFixedCompensation  offerDate  \n0            800000           800000                  800000 2022-09-01  \n1           1600000          1600000                 1600000 2018-10-23  ",
      "text/html": "<div>\n<style scoped>\n    .dataframe tbody tr th:only-of-type {\n        vertical-align: middle;\n    }\n\n    .dataframe tbody tr th {\n        vertical-align: top;\n    }\n\n    .dataframe thead th {\n        text-align: right;\n    }\n</style>\n<table border=\"1\" class=\"dataframe\">\n  <thead>\n    <tr style=\"text-align: right;\">\n      <th></th>\n      <th>candidateName</th>\n      <th>candidateSignature</th>\n      <th>candidateAddress</th>\n      <th>location</th>\n      <th>designation</th>\n      <th>basic</th>\n      <th>bonus</th>\n      <th>hra</th>\n      <th>medicalAllowance</th>\n      <th>otherFixedAllowance</th>\n      <th>pfEmployee</th>\n      <th>pfEmployer</th>\n      <th>totalFixedCash</th>\n      <th>totalCtcPerMonth</th>\n      <th>totalCtcPerYear</th>\n      <th>totalFixedCompensation</th>\n      <th>offerDate</th>\n    </tr>\n  </thead>\n  <tbody>\n    <tr>\n      <th>0</th>\n      <td>Subhankar Karmakar</td>\n      <td>candidateSignature2.png</td>\n      <td>NaN</td>\n      <td>Jaipur</td>\n      <td>Associate</td>\n      <td>800000</td>\n      <td>800000</td>\n      <td>0</td>\n      <td>800000</td>\n      <td>800000</td>\n      <td>800000</td>\n      <td>800000</td>\n      <td>800000</td>\n      <td>800000</td>\n      <td>800000</td>\n      <td>800000</td>\n      <td>2022-09-01</td>\n    </tr>\n    <tr>\n      <th>1</th>\n      <td>Ayush Garg</td>\n      <td>candidateSignature2.png</td>\n      <td>NaN</td>\n      <td>Jaipur</td>\n      <td>Consultant</td>\n      <td>1600000</td>\n      <td>1600000</td>\n      <td>1600000</td>\n      <td>1600000</td>\n      <td>1600000</td>\n      <td>1600000</td>\n      <td>1600000</td>\n      <td>1600000</td>\n      <td>1600000</td>\n      <td>1600000</td>\n      <td>1600000</td>\n      <td>2018-10-23</td>\n    </tr>\n  </tbody>\n</table>\n</div>"
     },
     "execution_count": 19,
     "metadata": {},
     "output_type": "execute_result"
    }
   ],
   "source": [
    "candidateDf"
   ],
   "metadata": {
    "collapsed": false,
    "pycharm": {
     "name": "#%%\n"
    }
   }
  },
  {
   "cell_type": "code",
   "execution_count": 22,
   "outputs": [
    {
     "name": "stdout",
     "output_type": "stream",
     "text": [
      "candidateName object\n",
      "candidateSignature object\n",
      "candidateAddress float64\n",
      "location object\n",
      "designation object\n",
      "basic int64\n",
      "bonus int64\n",
      "hra int64\n",
      "medicalAllowance int64\n",
      "otherFixedAllowance int64\n",
      "pfEmployee int64\n",
      "pfEmployer int64\n",
      "totalFixedCash int64\n",
      "totalCtcPerMonth int64\n",
      "totalCtcPerYear int64\n",
      "totalFixedCompensation int64\n",
      "offerDate datetime64[ns]\n"
     ]
    }
   ],
   "source": [
    "for i in candidateDf.columns:\n",
    "    print(i,candidateDf[i].dtype)"
   ],
   "metadata": {
    "collapsed": false,
    "pycharm": {
     "name": "#%%\n"
    }
   }
  },
  {
   "cell_type": "code",
   "execution_count": 18,
   "outputs": [
    {
     "data": {
      "text/plain": "{'basic': 800000,\n 'bonus': 800000,\n 'hra': 0,\n 'medicalAllowance': 800000,\n 'otherFixedAllowance': 800000,\n 'pfEmployee': 800000,\n 'pfEmployer': 800000,\n 'totalFixedCash': 800000,\n 'totalCtcPerMonth': 800000,\n 'totalCtcPerYear': 800000,\n 'totalFixedCompensation': 800000}"
     },
     "execution_count": 18,
     "metadata": {},
     "output_type": "execute_result"
    }
   ],
   "source": [
    "    numeric_context = {\n",
    "        column_header: candidateDf.loc[0, column_header]\n",
    "        for column_header in candidateDf.columns\n",
    "        if candidateDf[column_header].dtype == \"int64\"\n",
    "    }\n",
    "\n",
    "    numeric_context"
   ],
   "metadata": {
    "collapsed": false,
    "pycharm": {
     "name": "#%%\n"
    }
   }
  },
  {
   "cell_type": "code",
   "execution_count": null,
   "metadata": {
    "pycharm": {
     "name": "#%%\n"
    }
   },
   "outputs": [],
   "source": [
    "candidateDf.loc[100, 'offerDate'].to_pydatetime()\n",
    "# pd.Timestamp().to_pydatetime()"
   ]
  },
  {
   "cell_type": "code",
   "execution_count": null,
   "metadata": {
    "pycharm": {
     "name": "#%%\n"
    }
   },
   "outputs": [],
   "source": [
    "df = pd.read_excel(\"CandidateInformation.xlsx\",index_col=\"candidateName\")"
   ]
  },
  {
   "cell_type": "code",
   "execution_count": null,
   "metadata": {
    "pycharm": {
     "name": "#%%\n"
    }
   },
   "outputs": [],
   "source": [
    "df"
   ]
  },
  {
   "cell_type": "code",
   "execution_count": null,
   "metadata": {
    "pycharm": {
     "name": "#%%\n"
    }
   },
   "outputs": [],
   "source": [
    "df.loc['Subhankar Karmakar','location']"
   ]
  },
  {
   "cell_type": "code",
   "execution_count": null,
   "metadata": {
    "pycharm": {
     "name": "#%%\n"
    }
   },
   "outputs": [],
   "source": [
    "companyDf = pd.read_excel(\"CompanyInformation.xlsx\",index_col='companyName')"
   ]
  },
  {
   "cell_type": "code",
   "execution_count": null,
   "metadata": {
    "pycharm": {
     "name": "#%%\n"
    }
   },
   "outputs": [],
   "source": [
    "companyDf"
   ]
  },
  {
   "cell_type": "code",
   "execution_count": null,
   "metadata": {
    "pycharm": {
     "name": "#%%\n"
    }
   },
   "outputs": [],
   "source": [
    "def date_suffix(day: int) -> str:\n",
    "    \"\"\"\n",
    "\n",
    "    Args:\n",
    "        day (int): Day of a month\n",
    "\n",
    "    Returns:\n",
    "\n",
    "    Raises:\n",
    "        ValueError\n",
    "    \"\"\"\n",
    "    if 1 <= day <= 31:\n",
    "        if 1 <= day % 10 <= 3:\n",
    "            suffix = [\"st\", \"nd\", \"rd\"][(day % 10) - 1]\n",
    "        else:\n",
    "            suffix = \"th\"\n",
    "        return suffix\n",
    "    else:\n",
    "        raise ValueError(\"Day is out of range, should be between 1 and 31 inclusive\")"
   ]
  },
  {
   "cell_type": "code",
   "execution_count": null,
   "metadata": {
    "pycharm": {
     "name": "#%%\n"
    }
   },
   "outputs": [],
   "source": [
    "date_suffix(31)"
   ]
  },
  {
   "cell_type": "code",
   "execution_count": 4,
   "outputs": [],
   "source": [
    "df = pd.DataFrame(\n",
    "    {\n",
    "        \"candidateName\": [\"Subhankar Karmakar\", \"Sachin Tendulkar\", \"Saurav Ganguly\"],\n",
    "        \"offerDate\": [\"2020-01-01\", \"2020-01-02\", \"2020-01-03\"],\n",
    "        \"location\": [\"Bangalore\", \"Mumbai\", \"Delhi\"],\n",
    "        \"salary\": [50000, 60000, 70000],\n",
    "    }\n",
    ")"
   ],
   "metadata": {
    "collapsed": false,
    "pycharm": {
     "name": "#%%\n"
    }
   }
  },
  {
   "cell_type": "code",
   "execution_count": 5,
   "outputs": [
    {
     "data": {
      "text/plain": "        candidateName   offerDate   location  salary\n0  Subhankar Karmakar  2020-01-01  Bangalore   50000\n1    Sachin Tendulkar  2020-01-02     Mumbai   60000\n2      Saurav Ganguly  2020-01-03      Delhi   70000",
      "text/html": "<div>\n<style scoped>\n    .dataframe tbody tr th:only-of-type {\n        vertical-align: middle;\n    }\n\n    .dataframe tbody tr th {\n        vertical-align: top;\n    }\n\n    .dataframe thead th {\n        text-align: right;\n    }\n</style>\n<table border=\"1\" class=\"dataframe\">\n  <thead>\n    <tr style=\"text-align: right;\">\n      <th></th>\n      <th>candidateName</th>\n      <th>offerDate</th>\n      <th>location</th>\n      <th>salary</th>\n    </tr>\n  </thead>\n  <tbody>\n    <tr>\n      <th>0</th>\n      <td>Subhankar Karmakar</td>\n      <td>2020-01-01</td>\n      <td>Bangalore</td>\n      <td>50000</td>\n    </tr>\n    <tr>\n      <th>1</th>\n      <td>Sachin Tendulkar</td>\n      <td>2020-01-02</td>\n      <td>Mumbai</td>\n      <td>60000</td>\n    </tr>\n    <tr>\n      <th>2</th>\n      <td>Saurav Ganguly</td>\n      <td>2020-01-03</td>\n      <td>Delhi</td>\n      <td>70000</td>\n    </tr>\n  </tbody>\n</table>\n</div>"
     },
     "execution_count": 5,
     "metadata": {},
     "output_type": "execute_result"
    }
   ],
   "source": [
    "df"
   ],
   "metadata": {
    "collapsed": false,
    "pycharm": {
     "name": "#%%\n"
    }
   }
  },
  {
   "cell_type": "code",
   "execution_count": 15,
   "outputs": [],
   "source": [
    "df2 = pd.DataFrame([{\n",
    "    \"companyName\": \"Test Company Name\",\n",
    "    \"companyAddress\": \"Test Company Address\",\n",
    "    \"hrName\": \"Test HR Name\",\n",
    "    \"hrMail\": \"Test HR Email\",\n",
    "    \"salesMail\": \"Test Sales Email\",\n",
    "    \"companyContact\": \"Test Company Contact\",\n",
    "    \"webSiteLink\": \"Test Company Website\",\n",
    "    \"webSiteAlias\": \"Test Company Website Alias\",\n",
    "    \"companyLogo\": \"Test Company Logo\",\n",
    "}])\n"
   ],
   "metadata": {
    "collapsed": false,
    "pycharm": {
     "name": "#%%\n"
    }
   }
  },
  {
   "cell_type": "markdown",
   "source": [],
   "metadata": {
    "collapsed": false
   }
  },
  {
   "cell_type": "code",
   "execution_count": 16,
   "outputs": [
    {
     "data": {
      "text/plain": "                         companyAddress        hrName         hrMail  \\\ncompanyName                                                            \nTest Company Name  Test Company Address  Test HR Name  Test HR Email   \n\n                          salesMail        companyContact  \\\ncompanyName                                                 \nTest Company Name  Test Sales Email  Test Company Contact   \n\n                            webSiteLink                webSiteAlias  \\\ncompanyName                                                           \nTest Company Name  Test Company Website  Test Company Website Alias   \n\n                         companyLogo  \ncompanyName                           \nTest Company Name  Test Company Logo  ",
      "text/html": "<div>\n<style scoped>\n    .dataframe tbody tr th:only-of-type {\n        vertical-align: middle;\n    }\n\n    .dataframe tbody tr th {\n        vertical-align: top;\n    }\n\n    .dataframe thead th {\n        text-align: right;\n    }\n</style>\n<table border=\"1\" class=\"dataframe\">\n  <thead>\n    <tr style=\"text-align: right;\">\n      <th></th>\n      <th>companyAddress</th>\n      <th>hrName</th>\n      <th>hrMail</th>\n      <th>salesMail</th>\n      <th>companyContact</th>\n      <th>webSiteLink</th>\n      <th>webSiteAlias</th>\n      <th>companyLogo</th>\n    </tr>\n    <tr>\n      <th>companyName</th>\n      <th></th>\n      <th></th>\n      <th></th>\n      <th></th>\n      <th></th>\n      <th></th>\n      <th></th>\n      <th></th>\n    </tr>\n  </thead>\n  <tbody>\n    <tr>\n      <th>Test Company Name</th>\n      <td>Test Company Address</td>\n      <td>Test HR Name</td>\n      <td>Test HR Email</td>\n      <td>Test Sales Email</td>\n      <td>Test Company Contact</td>\n      <td>Test Company Website</td>\n      <td>Test Company Website Alias</td>\n      <td>Test Company Logo</td>\n    </tr>\n  </tbody>\n</table>\n</div>"
     },
     "execution_count": 16,
     "metadata": {},
     "output_type": "execute_result"
    }
   ],
   "source": [
    "df2.set_index('companyName')\n"
   ],
   "metadata": {
    "collapsed": false,
    "pycharm": {
     "name": "#%%\n"
    }
   }
  },
  {
   "cell_type": "code",
   "execution_count": 20,
   "outputs": [
    {
     "data": {
      "text/plain": "           candidateName                   location                   basic  \\\n0  Test Candidate Name 1  Test Candidate Location 1  Test Candidate Basic 1   \n1  Test Candidate Name 2  Test Candidate Location 2  Test Candidate Basic 2   \n\n                    hra   offerDate          candidateSignature  \n0  Test Candidate HRA 1  2022-09-01  Test Candidate Signature 1  \n1  Test Candidate HRA 2  2022-09-02  Test Candidate Signature 2  ",
      "text/html": "<div>\n<style scoped>\n    .dataframe tbody tr th:only-of-type {\n        vertical-align: middle;\n    }\n\n    .dataframe tbody tr th {\n        vertical-align: top;\n    }\n\n    .dataframe thead th {\n        text-align: right;\n    }\n</style>\n<table border=\"1\" class=\"dataframe\">\n  <thead>\n    <tr style=\"text-align: right;\">\n      <th></th>\n      <th>candidateName</th>\n      <th>location</th>\n      <th>basic</th>\n      <th>hra</th>\n      <th>offerDate</th>\n      <th>candidateSignature</th>\n    </tr>\n  </thead>\n  <tbody>\n    <tr>\n      <th>0</th>\n      <td>Test Candidate Name 1</td>\n      <td>Test Candidate Location 1</td>\n      <td>Test Candidate Basic 1</td>\n      <td>Test Candidate HRA 1</td>\n      <td>2022-09-01</td>\n      <td>Test Candidate Signature 1</td>\n    </tr>\n    <tr>\n      <th>1</th>\n      <td>Test Candidate Name 2</td>\n      <td>Test Candidate Location 2</td>\n      <td>Test Candidate Basic 2</td>\n      <td>Test Candidate HRA 2</td>\n      <td>2022-09-02</td>\n      <td>Test Candidate Signature 2</td>\n    </tr>\n  </tbody>\n</table>\n</div>"
     },
     "execution_count": 20,
     "metadata": {},
     "output_type": "execute_result"
    }
   ],
   "source": [
    "df3 = pd.DataFrame([\n",
    "    {\n",
    "            \"candidateName\": \"Test Candidate Name 1\",\n",
    "            \"location\": \"Test Candidate Location 1\",\n",
    "            \"basic\": \"Test Candidate Basic 1\",\n",
    "            \"hra\": \"Test Candidate HRA 1\",\n",
    "            \"offerDate\": \"2022-09-01\",\n",
    "            \"candidateSignature\": \"Test Candidate Signature 1\"\n",
    "        },\n",
    "        {\n",
    "            \"candidateName\": \"Test Candidate Name 2\",\n",
    "            \"location\": \"Test Candidate Location 2\",\n",
    "            \"basic\": \"Test Candidate Basic 2\",\n",
    "            \"hra\": \"Test Candidate HRA 2\",\n",
    "            \"offerDate\": \"2022-09-02\",\n",
    "            \"candidateSignature\": \"Test Candidate Signature 2\"\n",
    "        }\n",
    "])\n",
    "df3\n"
   ],
   "metadata": {
    "collapsed": false,
    "pycharm": {
     "name": "#%%\n"
    }
   }
  },
  {
   "cell_type": "code",
   "execution_count": 21,
   "outputs": [
    {
     "name": "stdout",
     "output_type": "stream",
     "text": [
      "<class 'pandas.core.frame.DataFrame'>\n",
      "RangeIndex: 2 entries, 0 to 1\n",
      "Data columns (total 6 columns):\n",
      " #   Column              Non-Null Count  Dtype \n",
      "---  ------              --------------  ----- \n",
      " 0   candidateName       2 non-null      object\n",
      " 1   location            2 non-null      object\n",
      " 2   basic               2 non-null      object\n",
      " 3   hra                 2 non-null      object\n",
      " 4   offerDate           2 non-null      object\n",
      " 5   candidateSignature  2 non-null      object\n",
      "dtypes: object(6)\n",
      "memory usage: 224.0+ bytes\n"
     ]
    }
   ],
   "source": [
    "df3.info()\n"
   ],
   "metadata": {
    "collapsed": false,
    "pycharm": {
     "name": "#%%\n"
    }
   }
  },
  {
   "cell_type": "code",
   "execution_count": null,
   "outputs": [],
   "source": [],
   "metadata": {
    "collapsed": false,
    "pycharm": {
     "name": "#%%\n"
    }
   }
  }
 ],
 "metadata": {
  "kernelspec": {
   "display_name": "Python 3 (ipykernel)",
   "language": "python",
   "name": "python3"
  },
  "language_info": {
   "codemirror_mode": {
    "name": "ipython",
    "version": 3
   },
   "file_extension": ".py",
   "mimetype": "text/x-python",
   "name": "python",
   "nbconvert_exporter": "python",
   "pygments_lexer": "ipython3",
   "version": "3.10.2"
  }
 },
 "nbformat": 4,
 "nbformat_minor": 1
}